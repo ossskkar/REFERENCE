{
 "cells": [
  {
   "cell_type": "markdown",
   "metadata": {},
   "source": [
    "# Python Virtual Environments  (Windows)\n",
    "\n",
    "Reference of commands for creating/managing virtual environments."
   ]
  },
  {
   "cell_type": "code",
   "execution_count": null,
   "metadata": {},
   "outputs": [],
   "source": [
    "# Check pip is installed\n",
    "py -m pip --version"
   ]
  },
  {
   "cell_type": "code",
   "execution_count": null,
   "metadata": {},
   "outputs": [],
   "source": [
    "# Upgrade pip\n",
    "py -m pip install --upgrade pip"
   ]
  },
  {
   "cell_type": "code",
   "execution_count": null,
   "metadata": {},
   "outputs": [],
   "source": [
    "# Install virtualenv\n",
    "py -m pip install --user virtualenv"
   ]
  },
  {
   "cell_type": "code",
   "execution_count": null,
   "metadata": {},
   "outputs": [],
   "source": [
    "# Create virtual environment\n",
    "py -m virtualenv <env_name> "
   ]
  },
  {
   "cell_type": "code",
   "execution_count": null,
   "metadata": {},
   "outputs": [],
   "source": [
    "# Create virtual environment with a specific version of Python executable\n",
    "py -m virtualenv --python=C:\\Python27\\python.exe python27_env "
   ]
  },
  {
   "cell_type": "code",
   "execution_count": null,
   "metadata": {},
   "outputs": [],
   "source": [
    "# Activate virtual environment\n",
    ".\\env\\Scripts\\activate"
   ]
  },
  {
   "cell_type": "code",
   "execution_count": null,
   "metadata": {},
   "outputs": [],
   "source": [
    "# Deactivate virtual environment\n",
    ".\\env\\Scripts\\deactivate"
   ]
  },
  {
   "cell_type": "code",
   "execution_count": null,
   "metadata": {},
   "outputs": [],
   "source": [
    "# pip in Python 2.7 produces errors when installing packages, \n",
    "# so we use Python 3's pip and install packages to Python 2's directory\n",
    "\n",
    "# 1. activate Python 3 virtualenv\n",
    "<python3_env>\\Scripts\\activate\n",
    "\n",
    "# 2. install packages to a secondary directory\n",
    "pip install --install-option=\"--prefix=<python2_env>\" --ignore-installed <package_name>\n",
    "\n",
    "pip install --install-option=\"--prefix=C:\\Python27\" --ignore-installed <package_name>"
   ]
  }
 ],
 "metadata": {
  "kernelspec": {
   "display_name": "Python 2",
   "language": "python",
   "name": "python2"
  },
  "language_info": {
   "codemirror_mode": {
    "name": "ipython",
    "version": 2
   },
   "file_extension": ".py",
   "mimetype": "text/x-python",
   "name": "python",
   "nbconvert_exporter": "python",
   "pygments_lexer": "ipython2",
   "version": "2.7.15"
  }
 },
 "nbformat": 4,
 "nbformat_minor": 2
}
